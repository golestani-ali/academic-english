{
 "cells": [
  {
   "cell_type": "markdown",
   "metadata": {},
   "source": [
    "<h1> Academic Writing (Pt.2) </h1>\n",
    "<hr>\n",
    "<h2>He/She</h2>\n",
    "\n",
    "> Most writers no longer use male pronouns <b>(he, his, him)</b> to denote both males and females. Instead, we have got some other constructions as replacement.\n",
    "\n",
    "<ul>\n",
    "    <li>Use the <b>plural</b> form</li>\n",
    "    <li> <b>Reword</b> the sentence or try to remove the pronoun</li>\n",
    "    <li> use the less awkward form <b>he or she</b>, <b>s/he</b> or <b>she/he</b></li>\n",
    "</ul>\n",
    "\n",
    "<h3>Examples</h3>\n",
    "\n",
    "> <b>(example 2.1)</b> Each patient was interviewed at the out-patient unit that <ins>he</ins> belonged to.\n",
    "\n",
    " * using plural form, example 2.1 turns would be rewritten as follows:\n",
    "\n",
    "> <b>(example 2.2)</b> All patients were interviewed at the out-patient unit they belonged to.\n",
    "\n",
    "* using <b>she/he</b> form, example 2.1 could also be rewritten as follows:\n",
    "\n",
    "> Each patient was interviewed at the out-patient unit that <ins>s/he</ins> belonged to."
   ]
  }
 ],
 "metadata": {
  "language_info": {
   "name": "python"
  },
  "orig_nbformat": 4
 },
 "nbformat": 4,
 "nbformat_minor": 2
}
