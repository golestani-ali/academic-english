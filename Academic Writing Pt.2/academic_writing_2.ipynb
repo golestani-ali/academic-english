{
 "cells": [
  {
   "cell_type": "markdown",
   "metadata": {},
   "source": [
    "<h1> Academic Writing (Pt.2) </h1>\n",
    "<hr>\n",
    "<h2>He/She</h2>\n",
    "\n",
    "> Most writers no longer use male pronouns <b>(he, his, him)</b> to denote both males and females. Instead, we have got some other constructions as replacement.\n",
    "\n",
    "<ul>\n",
    "    <li>Use the <b>plural</b> form</li>\n",
    "    <li> <b>Reword</b> the sentence or try to remove the pronoun</li>\n",
    "    <li> use the less awkward form <b>he or she</b>, <b>s/he</b> or <b>she/he</b></li>\n",
    "</ul>\n",
    "\n",
    "<h3>Examples</h3>\n",
    "\n",
    "> <b>(example 2.1)</b> Each patient was interviewed at the out-patient unit that <ins>he</ins> belonged to.\n",
    "\n",
    " * using plural form, example 2.1 turns would be rewritten as follows:\n",
    "\n",
    "> <b>(example 2.2)</b> All patients were interviewed at the out-patient unit they belonged to.\n",
    "\n",
    "* using <b>she/he</b> form, example 2.1 could also be rewritten as follows:\n",
    "\n",
    "> <b>(example 2.3)</b> Each patient was interviewed at the out-patient unit that <ins>s/he</ins> belonged to.\n",
    "\n",
    "<h4>On the odd occasion it could be even more favorable to reword the sentence or remove the pronoun.</h4>\n",
    "\n",
    "> <b>(example 2.4)</b> I submitted the manuscript to the editor for <ins>their</ins> consideration.\n",
    "\n",
    "* the word <b>their</b> is unnecessary and could be omitted as follows: \n",
    "\n",
    "> <b>(example 2.5)</b> I submitted the manuscript to the editor for consideration.\n",
    "\n"
   ]
  }
 ],
 "metadata": {
  "kernelspec": {
   "display_name": "Python 3.9.5 64-bit",
   "language": "python",
   "name": "python3"
  },
  "language_info": {
   "name": "python",
   "version": "3.9.5"
  },
  "orig_nbformat": 4,
  "vscode": {
   "interpreter": {
    "hash": "7812ea015bdcee6f23a998adcdd2ef97c151c0c241b7b7070987d9313e41299d"
   }
  }
 },
 "nbformat": 4,
 "nbformat_minor": 2
}
