{
 "cells": [
  {
   "cell_type": "code",
   "execution_count": 3,
   "metadata": {},
   "outputs": [
    {
     "ename": "SyntaxError",
     "evalue": "invalid syntax (1816341504.py, line 2)",
     "output_type": "error",
     "traceback": [
      "\u001b[0;36m  Input \u001b[0;32mIn [3]\u001b[0;36m\u001b[0m\n\u001b[0;31m    ***\u001b[0m\n\u001b[0m    ^\u001b[0m\n\u001b[0;31mSyntaxError\u001b[0m\u001b[0;31m:\u001b[0m invalid syntax\n"
     ]
    }
   ],
   "source": [
    "# Academic Writing (Pt.1)\n",
    "***\n",
    "## Basic Rules\n",
    "\n",
    "> \"All my sloppy sentences were tightened up and all my <ins>useless adjectives</ins> obliterated.\" < br >\n",
    "“I hope you don’t mind me doing this?” < br >\n",
    "“Thank you, Sir – you are giving me a free lesson in writing < ins > plain English < /ins > .”\n",
    "\n",
    "\n",
    "<ol >\n",
    "<li > Brevity: excluding every < font color = blue > nonessential word < /font > $\\not \\rightarrow$ wastes the reader’s < ins > time < /ins > and < ins > patience < /ins > </li >\n",
    "<li > Logic and clarity: Your sentences should be so < ins > clear < /ins > and < ins > easily understood < /ins > . < br >\n",
    "“that the reader forgets that he is reading and knows only that he is <font color = blue > absorbing ideas < /font >” </li >\n",
    "<li > Clean typing: < ins > Clean Typing < /ins > <br > 'It wasn’t damaged. Much worse – it wasn’t cleaned.' < /li >\n",
    "</ol >\n",
    "\n",
    "***\n",
    "\n",
    "## Comments on scientific language\n",
    "\n",
    "> \"keep your eyes and ears open and you might learn something.\"\n",
    "\n",
    "* Magazines(American Weekly, Times, Newsweek, Newyorker, ...)\n",
    "* Read English-language publications publications, underline < ins > useful phrases and words < /ins > , and then create\n",
    "a list of the terms for each section(Introduction, Methods, etc.).\n",
    "\n",
    "<font color = Red > You find the style < ins > ELEGANT < /ins >, but it's bullshit. < /font >\n",
    "\n",
    "\n",
    "### Verbosity\n",
    "\n",
    "<div class = \"alert alert-block alert-info\" >\n",
    "In the following paragraph, adapted from Kesling(1958), 36 of the\n",
    "53 words can be omitted:\n",
    "\n",
    "    Our research, designed to test the fatal effects of PGF2 on dogs, was carried out by\n",
    "    intravenously introducing the drug. In each case a relatively small quantity, 30 mg, was\n",
    "    administered to each animal. < br > In each case, PGF2 proved fatal\n",
    "    all 10 dogs\n",
    "    expiring before a lapse of five minutes after the injection.\n",
    "</div >\n",
    "\n",
    "<div class = \"alert alert-block alert-info\" >\n",
    "Seventeen words are enough:\n",
    "\n",
    "    Intravenous injection of 30 mg prostaglandin PGF2 to each of ten dogs killed them within five minutes.\n",
    "</div >\n",
    "\n",
    "***\n",
    "\n",
    "> Omit needless words! But do not go too far.\n",
    "\n",
    "<div class = \"alert alert-block alert-info\" >\n",
    "The telegraphic style of the following sentence is a riddle to a nonspecialist:\n",
    "\n",
    "    Young mature Sprague Dawley rats(200 g)(Charles River Italia) were[used].\n",
    "</div >\n",
    "\n",
    "<ol >\n",
    "<li > What do “young” and “mature” mean?< /li >\n",
    "<li > What do “Sprague Dawley” and “Charles River Italia” stand for?< /li >\n",
    "<li > did all the rats weigh exactly 200 g?< /li >\n",
    "</ol >\n",
    "\n",
    "<div class = \"alert alert-block alert-info\" >\n",
    "The average reader is probably better served by this:\n",
    "\n",
    "    The rats used in this experiment were obtained from Charles River Breeding\n",
    "    Laboratories and were derived from the Sprague Dawley strain. The animals were\n",
    "    sexually mature, 100 days old, and weighed 190 to 215 g.\n",
    "</div >\n"
   ]
  }
 ],
 "metadata": {
  "kernelspec": {
   "display_name": "Python 3.9.5 64-bit",
   "language": "python",
   "name": "python3"
  },
  "language_info": {
   "codemirror_mode": {
    "name": "ipython",
    "version": 3
   },
   "file_extension": ".py",
   "mimetype": "text/x-python",
   "name": "python",
   "nbconvert_exporter": "python",
   "pygments_lexer": "ipython3",
   "version": "3.9.5"
  },
  "orig_nbformat": 4,
  "vscode": {
   "interpreter": {
    "hash": "aee8b7b246df8f9039afb4144a1f6fd8d2ca17a180786b69acc140d282b71a49"
   }
  }
 },
 "nbformat": 4,
 "nbformat_minor": 2
}
