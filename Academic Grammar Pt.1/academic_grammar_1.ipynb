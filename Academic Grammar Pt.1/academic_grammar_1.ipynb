{
 "cells": [
  {
   "cell_type": "markdown",
   "metadata": {},
   "source": [
    "<h1>Academic Grammar Pt.1</h1>\n",
    "<hr>\n",
    "\n",
    "<h2>A very fast review on what we already know</h2>\n",
    "\n",
    "<h3>Tense</h3>\n",
    "\n",
    "Present Simple\n",
    "\n",
    "> <b>(example 1.1)</b> As both an ideological system and a method for acquiring information about the world, it <ins>offers</ins> explanations for the origins of the physical universe and answers to a variety of other fundamental questions and concerns.\n",
    "\n",
    "Past Simple\n",
    "\n",
    "> <b>(example 1.2)</b> These studies demonstrated the morally normative effects of lay notions of science.\n",
    "\n",
    "Present Continuous\n",
    "\n",
    "> I'm thinking about \n",
    "\n",
    "<li><li>\n",
    "<hr>\n",
    "\n",
    "<h2>Grammatical Description</h2>\n",
    "\n",
    "<center><h4>A description of the grammar of a language gives an account of the sentence structures\n",
    "that are <ins>possible</ins> in that language.<br> It will identify certain grammatical <ins>units</ins>\n",
    "smaller than the sentence and give rules to explain how these are <ins>combined</ins> to make\n",
    "sentences.</h4></center>\n",
    "\n",
    "Many grammatical descriptions present a hierarchy of units, in which\n",
    "* a <ins>sentence</ins> (at the top of the hierarchy) consists of\n",
    "* one or more <ins>clauses</ins>, which consist of\n",
    "* one or more <ins>phrases</ins>, which consist of\n",
    "* one or more <ins>words</ins>.\n",
    "\n"
   ]
  }
 ],
 "metadata": {
  "kernelspec": {
   "display_name": "Python 3.9.5 64-bit",
   "language": "python",
   "name": "python3"
  },
  "language_info": {
   "name": "python",
   "version": "3.9.5"
  },
  "orig_nbformat": 4,
  "vscode": {
   "interpreter": {
    "hash": "aee8b7b246df8f9039afb4144a1f6fd8d2ca17a180786b69acc140d282b71a49"
   }
  }
 },
 "nbformat": 4,
 "nbformat_minor": 2
}
