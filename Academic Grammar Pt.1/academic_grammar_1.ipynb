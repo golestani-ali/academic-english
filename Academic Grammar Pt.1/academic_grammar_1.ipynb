{
 "cells": [
  {
   "cell_type": "markdown",
   "metadata": {},
   "source": [
    "<h1>Academic Grammar Pt.1</h1>\n",
    "<hr>\n",
    "\n",
    "<h2>A very fast review on what we already know</h2>\n",
    "\n",
    "<h3>Tense</h3>\n",
    "\n",
    "Present Simple\n",
    "\n",
    "> <b>(example 1.1)</b> As both an ideological system and a method for acquiring information about the world, it <ins>offers</ins> explanations for the origins of the physical universe and answers to a variety of other fundamental questions and concerns.\n",
    "\n",
    "Past Simple\n",
    "\n",
    "> <b>(example 1.2)</b> These studies demonstrated the morally normative effects of lay notions of science.\n",
    "\n",
    "Present Continuous\n",
    "\n",
    "> I'm thinking about \n",
    "\n",
    "<li><li>\n",
    "<hr>\n",
    "\n",
    "<h2>Grammatical Description</h2>\n",
    "\n",
    "<center><h4>A description of the grammar of a language gives an account of the sentence structures\n",
    "that are <ins>possible</ins> in that language.<br> It will identify certain grammatical <ins>units</ins>\n",
    "smaller than the sentence and give rules to explain how these are <ins>combined</ins> to make\n",
    "sentences.</h4></center>\n",
    "\n",
    "Many grammatical descriptions present a hierarchy of units, in which\n",
    "* a <ins>sentence</ins> (at the top of the hierarchy) consists of\n",
    "* one or more <ins>clauses</ins>, which consist of\n",
    "* one or more <ins>phrases</ins>, which consist of\n",
    "* one or more <ins>words</ins>.\n",
    "\n",
    "Example 1.1, demonstrates this hierarchy.\n",
    "\n",
    "> <b>(example 1.1)</b><br> <img src=\"images/image.png\" width=\"800px\">\n",
    "\n",
    "* Each type of unit can be <t style=\"color:yellow\">categorised</t> and <t style=\"color:yellow\">labelled</t>, and the labels tell us something about the potential the units have for appearing in <ins>higher-level</ins> units.\n",
    "\n",
    "<t style=\"color:yellow\">Words</t> are typically grouped using <ins>word class labels</ins> such as noun, verb, adjective, adverb, preposition, determiner and conjunction.\n",
    "\n",
    "<t style=\"color:yellow\">Phrases</t> can be categorised according to their </ins>central component</ins> (head) into noun phrases, verb phrases, adjective phrases, adverb phrases, and prepositional phrases.\n",
    "\n",
    "<t style=\"color:yellow\">Clauses</t> can be divided into <ins>main</ins> (independent) and <ins>subordinate</ins> (dependent) clauses.\n",
    "\n",
    "So an analysis of the same sentence, using such labels would be:\n",
    "\n",
    "> <img src=\"images/image.png\" width=\"800px\">"
   ]
  }
 ],
 "metadata": {
  "kernelspec": {
   "display_name": "Python 3.9.5 64-bit",
   "language": "python",
   "name": "python3"
  },
  "language_info": {
   "name": "python",
   "version": "3.9.5"
  },
  "orig_nbformat": 4,
  "vscode": {
   "interpreter": {
    "hash": "aee8b7b246df8f9039afb4144a1f6fd8d2ca17a180786b69acc140d282b71a49"
   }
  }
 },
 "nbformat": 4,
 "nbformat_minor": 2
}
